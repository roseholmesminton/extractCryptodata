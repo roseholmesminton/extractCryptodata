{
 "cells": [
  {
   "cell_type": "markdown",
   "id": "6f829bd9",
   "metadata": {},
   "source": [
    "# I'm a markdown cell."
   ]
  },
  {
   "cell_type": "code",
   "execution_count": 1,
   "id": "1cdd9e79",
   "metadata": {},
   "outputs": [
    {
     "name": "stdout",
     "output_type": "stream",
     "text": [
      "I'm a code cell\n"
     ]
    }
   ],
   "source": [
    "print(\"I'm a code cell\")"
   ]
  },
  {
   "cell_type": "raw",
   "id": "151d2964",
   "metadata": {},
   "source": [
    "I'm a **raw** cell"
   ]
  },
  {
   "cell_type": "code",
   "execution_count": 4,
   "id": "2fd3cb1f",
   "metadata": {},
   "outputs": [],
   "source": [
    "a = 10"
   ]
  }
 ],
 "metadata": {
  "kernelspec": {
   "display_name": "Python 3 (ipykernel)",
   "language": "python",
   "name": "python3"
  },
  "language_info": {
   "codemirror_mode": {
    "name": "ipython",
    "version": 3
   },
   "file_extension": ".py",
   "mimetype": "text/x-python",
   "name": "python",
   "nbconvert_exporter": "python",
   "pygments_lexer": "ipython3",
   "version": "3.10.5"
  }
 },
 "nbformat": 4,
 "nbformat_minor": 5
}
